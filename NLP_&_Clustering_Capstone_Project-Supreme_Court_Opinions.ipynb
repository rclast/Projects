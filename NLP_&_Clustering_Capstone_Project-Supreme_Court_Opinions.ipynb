{
 "cells": [
  {
   "cell_type": "markdown",
   "metadata": {},
   "source": [
    "# Introduction\n",
    "\n",
    "The decisions made by the Supreme Court have far-reaching, often long-lasting, effects on life in America. While the rulings themselves often get the most attention through media coverage and analysis, the written opinions of the Supreme Court justices have a very important impact through the legal precedent and reasoning that they set for courts across America to be used in the future. As such, more should be done to study what is in these written opinions.\n",
    "\n",
    "I will seek to shine a light on these opinions by analyzing the impact that authorship has on the opinions. When a specific Supreme Court Justice writes an opinion, how does it change that opinion? Which justices are more like each other? What subjects does a justice write on most? I will seek to answer these and other questions along the way.\n",
    "\n",
    "The dataset was curated by Garrett Fidler through public websites that give access to all Supreme Court opinions. The opinions I will be analyzing are from the year 1970 to the present."
   ]
  },
  {
   "cell_type": "code",
   "execution_count": 1,
   "metadata": {},
   "outputs": [],
   "source": [
    "import numpy as np\n",
    "import pandas as pd\n",
    "import matplotlib.pyplot as plt\n",
    "%matplotlib inline\n",
    "import seaborn as sns\n",
    "sns.set()\n",
    "import nltk\n",
    "import re\n",
    "import spacy\n",
    "import warnings\n",
    "\n",
    "\n",
    "warnings.filterwarnings('ignore')"
   ]
  },
  {
   "cell_type": "code",
   "execution_count": 2,
   "metadata": {},
   "outputs": [
    {
     "data": {
      "text/html": [
       "<div>\n",
       "<style scoped>\n",
       "    .dataframe tbody tr th:only-of-type {\n",
       "        vertical-align: middle;\n",
       "    }\n",
       "\n",
       "    .dataframe tbody tr th {\n",
       "        vertical-align: top;\n",
       "    }\n",
       "\n",
       "    .dataframe thead th {\n",
       "        text-align: right;\n",
       "    }\n",
       "</style>\n",
       "<table border=\"1\" class=\"dataframe\">\n",
       "  <thead>\n",
       "    <tr style=\"text-align: right;\">\n",
       "      <th></th>\n",
       "      <th>author_name</th>\n",
       "      <th>category</th>\n",
       "      <th>per_curiam</th>\n",
       "      <th>case_name</th>\n",
       "      <th>date_filed</th>\n",
       "      <th>federal_cite_one</th>\n",
       "      <th>absolute_url</th>\n",
       "      <th>cluster</th>\n",
       "      <th>year_filed</th>\n",
       "      <th>scdb_id</th>\n",
       "      <th>scdb_decision_direction</th>\n",
       "      <th>scdb_votes_majority</th>\n",
       "      <th>scdb_votes_minority</th>\n",
       "      <th>text</th>\n",
       "    </tr>\n",
       "  </thead>\n",
       "  <tbody>\n",
       "    <tr>\n",
       "      <th>0</th>\n",
       "      <td>justice roberts</td>\n",
       "      <td>majority</td>\n",
       "      <td>False</td>\n",
       "      <td>McCutcheon v. Federal Election Comm'n</td>\n",
       "      <td>2014-04-02</td>\n",
       "      <td>134 S. Ct. 1434</td>\n",
       "      <td>https://www.courtlistener.com/opinion/2659301/...</td>\n",
       "      <td>https://www.courtlistener.com/api/rest/v3/clus...</td>\n",
       "      <td>2014</td>\n",
       "      <td>2013-033</td>\n",
       "      <td>1.0</td>\n",
       "      <td>5.0</td>\n",
       "      <td>4.0</td>\n",
       "      <td>There is no right more basic in our democracy ...</td>\n",
       "    </tr>\n",
       "    <tr>\n",
       "      <th>1</th>\n",
       "      <td>justice thomas</td>\n",
       "      <td>concurring</td>\n",
       "      <td>False</td>\n",
       "      <td>McCutcheon v. Federal Election Comm'n</td>\n",
       "      <td>2014-04-02</td>\n",
       "      <td>134 S. Ct. 1434</td>\n",
       "      <td>https://www.courtlistener.com/opinion/2659301/...</td>\n",
       "      <td>https://www.courtlistener.com/api/rest/v3/clus...</td>\n",
       "      <td>2014</td>\n",
       "      <td>2013-033</td>\n",
       "      <td>1.0</td>\n",
       "      <td>5.0</td>\n",
       "      <td>4.0</td>\n",
       "      <td>I adhere to the view that this Court’s decisio...</td>\n",
       "    </tr>\n",
       "    <tr>\n",
       "      <th>2</th>\n",
       "      <td>justice breyer</td>\n",
       "      <td>dissenting</td>\n",
       "      <td>False</td>\n",
       "      <td>McCutcheon v. Federal Election Comm'n</td>\n",
       "      <td>2014-04-02</td>\n",
       "      <td>134 S. Ct. 1434</td>\n",
       "      <td>https://www.courtlistener.com/opinion/2659301/...</td>\n",
       "      <td>https://www.courtlistener.com/api/rest/v3/clus...</td>\n",
       "      <td>2014</td>\n",
       "      <td>2013-033</td>\n",
       "      <td>1.0</td>\n",
       "      <td>5.0</td>\n",
       "      <td>4.0</td>\n",
       "      <td>Nearly 40 years ago in Buckley v. Valeo, 424 U...</td>\n",
       "    </tr>\n",
       "    <tr>\n",
       "      <th>3</th>\n",
       "      <td>justice kagan</td>\n",
       "      <td>majority</td>\n",
       "      <td>False</td>\n",
       "      <td>Kaley v. United States</td>\n",
       "      <td>2014-02-25</td>\n",
       "      <td>NaN</td>\n",
       "      <td>https://www.courtlistener.com/opinion/2654533/...</td>\n",
       "      <td>https://www.courtlistener.com/api/rest/v3/clus...</td>\n",
       "      <td>2014</td>\n",
       "      <td>NaN</td>\n",
       "      <td>NaN</td>\n",
       "      <td>NaN</td>\n",
       "      <td>NaN</td>\n",
       "      <td>A federal statute, 21 U.S. C. §853(e), authori...</td>\n",
       "    </tr>\n",
       "    <tr>\n",
       "      <th>4</th>\n",
       "      <td>justice roberts</td>\n",
       "      <td>dissenting</td>\n",
       "      <td>False</td>\n",
       "      <td>Kaley v. United States</td>\n",
       "      <td>2014-02-25</td>\n",
       "      <td>NaN</td>\n",
       "      <td>https://www.courtlistener.com/opinion/2654533/...</td>\n",
       "      <td>https://www.courtlistener.com/api/rest/v3/clus...</td>\n",
       "      <td>2014</td>\n",
       "      <td>NaN</td>\n",
       "      <td>NaN</td>\n",
       "      <td>NaN</td>\n",
       "      <td>NaN</td>\n",
       "      <td>An individual facing serious criminal charges ...</td>\n",
       "    </tr>\n",
       "  </tbody>\n",
       "</table>\n",
       "</div>"
      ],
      "text/plain": [
       "       author_name    category  per_curiam  \\\n",
       "0  justice roberts    majority       False   \n",
       "1   justice thomas  concurring       False   \n",
       "2   justice breyer  dissenting       False   \n",
       "3    justice kagan    majority       False   \n",
       "4  justice roberts  dissenting       False   \n",
       "\n",
       "                               case_name  date_filed federal_cite_one  \\\n",
       "0  McCutcheon v. Federal Election Comm'n  2014-04-02  134 S. Ct. 1434   \n",
       "1  McCutcheon v. Federal Election Comm'n  2014-04-02  134 S. Ct. 1434   \n",
       "2  McCutcheon v. Federal Election Comm'n  2014-04-02  134 S. Ct. 1434   \n",
       "3                 Kaley v. United States  2014-02-25              NaN   \n",
       "4                 Kaley v. United States  2014-02-25              NaN   \n",
       "\n",
       "                                        absolute_url  \\\n",
       "0  https://www.courtlistener.com/opinion/2659301/...   \n",
       "1  https://www.courtlistener.com/opinion/2659301/...   \n",
       "2  https://www.courtlistener.com/opinion/2659301/...   \n",
       "3  https://www.courtlistener.com/opinion/2654533/...   \n",
       "4  https://www.courtlistener.com/opinion/2654533/...   \n",
       "\n",
       "                                             cluster  year_filed   scdb_id  \\\n",
       "0  https://www.courtlistener.com/api/rest/v3/clus...        2014  2013-033   \n",
       "1  https://www.courtlistener.com/api/rest/v3/clus...        2014  2013-033   \n",
       "2  https://www.courtlistener.com/api/rest/v3/clus...        2014  2013-033   \n",
       "3  https://www.courtlistener.com/api/rest/v3/clus...        2014       NaN   \n",
       "4  https://www.courtlistener.com/api/rest/v3/clus...        2014       NaN   \n",
       "\n",
       "   scdb_decision_direction  scdb_votes_majority  scdb_votes_minority  \\\n",
       "0                      1.0                  5.0                  4.0   \n",
       "1                      1.0                  5.0                  4.0   \n",
       "2                      1.0                  5.0                  4.0   \n",
       "3                      NaN                  NaN                  NaN   \n",
       "4                      NaN                  NaN                  NaN   \n",
       "\n",
       "                                                text  \n",
       "0  There is no right more basic in our democracy ...  \n",
       "1  I adhere to the view that this Court’s decisio...  \n",
       "2  Nearly 40 years ago in Buckley v. Valeo, 424 U...  \n",
       "3  A federal statute, 21 U.S. C. §853(e), authori...  \n",
       "4  An individual facing serious criminal charges ...  "
      ]
     },
     "execution_count": 2,
     "metadata": {},
     "output_type": "execute_result"
    }
   ],
   "source": [
    "path = 'C:\\\\Users\\Ross Last\\\\Python files\\\\Unit 4 Unsupervised Learning\\\\scotus-opinions\\\\opinions_since_1970.csv'\n",
    "df = pd.read_csv(path)\n",
    "df.head()"
   ]
  },
  {
   "cell_type": "code",
   "execution_count": 3,
   "metadata": {},
   "outputs": [
    {
     "data": {
      "text/html": [
       "<div>\n",
       "<style scoped>\n",
       "    .dataframe tbody tr th:only-of-type {\n",
       "        vertical-align: middle;\n",
       "    }\n",
       "\n",
       "    .dataframe tbody tr th {\n",
       "        vertical-align: top;\n",
       "    }\n",
       "\n",
       "    .dataframe thead th {\n",
       "        text-align: right;\n",
       "    }\n",
       "</style>\n",
       "<table border=\"1\" class=\"dataframe\">\n",
       "  <thead>\n",
       "    <tr style=\"text-align: right;\">\n",
       "      <th></th>\n",
       "      <th>author_name</th>\n",
       "      <th>category</th>\n",
       "      <th>per_curiam</th>\n",
       "      <th>case_name</th>\n",
       "      <th>date_filed</th>\n",
       "      <th>federal_cite_one</th>\n",
       "      <th>absolute_url</th>\n",
       "      <th>cluster</th>\n",
       "      <th>year_filed</th>\n",
       "      <th>scdb_id</th>\n",
       "      <th>scdb_decision_direction</th>\n",
       "      <th>scdb_votes_majority</th>\n",
       "      <th>scdb_votes_minority</th>\n",
       "      <th>text</th>\n",
       "      <th>length</th>\n",
       "    </tr>\n",
       "  </thead>\n",
       "  <tbody>\n",
       "    <tr>\n",
       "      <th>0</th>\n",
       "      <td>justice roberts</td>\n",
       "      <td>majority</td>\n",
       "      <td>False</td>\n",
       "      <td>McCutcheon v. Federal Election Comm'n</td>\n",
       "      <td>2014-04-02</td>\n",
       "      <td>134 S. Ct. 1434</td>\n",
       "      <td>https://www.courtlistener.com/opinion/2659301/...</td>\n",
       "      <td>https://www.courtlistener.com/api/rest/v3/clus...</td>\n",
       "      <td>2014</td>\n",
       "      <td>2013-033</td>\n",
       "      <td>1.0</td>\n",
       "      <td>5.0</td>\n",
       "      <td>4.0</td>\n",
       "      <td>There is no right more basic in our democracy ...</td>\n",
       "      <td>80851.0</td>\n",
       "    </tr>\n",
       "    <tr>\n",
       "      <th>1</th>\n",
       "      <td>justice thomas</td>\n",
       "      <td>concurring</td>\n",
       "      <td>False</td>\n",
       "      <td>McCutcheon v. Federal Election Comm'n</td>\n",
       "      <td>2014-04-02</td>\n",
       "      <td>134 S. Ct. 1434</td>\n",
       "      <td>https://www.courtlistener.com/opinion/2659301/...</td>\n",
       "      <td>https://www.courtlistener.com/api/rest/v3/clus...</td>\n",
       "      <td>2014</td>\n",
       "      <td>2013-033</td>\n",
       "      <td>1.0</td>\n",
       "      <td>5.0</td>\n",
       "      <td>4.0</td>\n",
       "      <td>I adhere to the view that this Court’s decisio...</td>\n",
       "      <td>9875.0</td>\n",
       "    </tr>\n",
       "    <tr>\n",
       "      <th>2</th>\n",
       "      <td>justice breyer</td>\n",
       "      <td>dissenting</td>\n",
       "      <td>False</td>\n",
       "      <td>McCutcheon v. Federal Election Comm'n</td>\n",
       "      <td>2014-04-02</td>\n",
       "      <td>134 S. Ct. 1434</td>\n",
       "      <td>https://www.courtlistener.com/opinion/2659301/...</td>\n",
       "      <td>https://www.courtlistener.com/api/rest/v3/clus...</td>\n",
       "      <td>2014</td>\n",
       "      <td>2013-033</td>\n",
       "      <td>1.0</td>\n",
       "      <td>5.0</td>\n",
       "      <td>4.0</td>\n",
       "      <td>Nearly 40 years ago in Buckley v. Valeo, 424 U...</td>\n",
       "      <td>61132.0</td>\n",
       "    </tr>\n",
       "    <tr>\n",
       "      <th>3</th>\n",
       "      <td>justice kagan</td>\n",
       "      <td>majority</td>\n",
       "      <td>False</td>\n",
       "      <td>Kaley v. United States</td>\n",
       "      <td>2014-02-25</td>\n",
       "      <td>NaN</td>\n",
       "      <td>https://www.courtlistener.com/opinion/2654533/...</td>\n",
       "      <td>https://www.courtlistener.com/api/rest/v3/clus...</td>\n",
       "      <td>2014</td>\n",
       "      <td>NaN</td>\n",
       "      <td>NaN</td>\n",
       "      <td>NaN</td>\n",
       "      <td>NaN</td>\n",
       "      <td>A federal statute, 21 U.S. C. §853(e), authori...</td>\n",
       "      <td>44457.0</td>\n",
       "    </tr>\n",
       "    <tr>\n",
       "      <th>4</th>\n",
       "      <td>justice roberts</td>\n",
       "      <td>dissenting</td>\n",
       "      <td>False</td>\n",
       "      <td>Kaley v. United States</td>\n",
       "      <td>2014-02-25</td>\n",
       "      <td>NaN</td>\n",
       "      <td>https://www.courtlistener.com/opinion/2654533/...</td>\n",
       "      <td>https://www.courtlistener.com/api/rest/v3/clus...</td>\n",
       "      <td>2014</td>\n",
       "      <td>NaN</td>\n",
       "      <td>NaN</td>\n",
       "      <td>NaN</td>\n",
       "      <td>NaN</td>\n",
       "      <td>An individual facing serious criminal charges ...</td>\n",
       "      <td>36936.0</td>\n",
       "    </tr>\n",
       "  </tbody>\n",
       "</table>\n",
       "</div>"
      ],
      "text/plain": [
       "       author_name    category  per_curiam  \\\n",
       "0  justice roberts    majority       False   \n",
       "1   justice thomas  concurring       False   \n",
       "2   justice breyer  dissenting       False   \n",
       "3    justice kagan    majority       False   \n",
       "4  justice roberts  dissenting       False   \n",
       "\n",
       "                               case_name  date_filed federal_cite_one  \\\n",
       "0  McCutcheon v. Federal Election Comm'n  2014-04-02  134 S. Ct. 1434   \n",
       "1  McCutcheon v. Federal Election Comm'n  2014-04-02  134 S. Ct. 1434   \n",
       "2  McCutcheon v. Federal Election Comm'n  2014-04-02  134 S. Ct. 1434   \n",
       "3                 Kaley v. United States  2014-02-25              NaN   \n",
       "4                 Kaley v. United States  2014-02-25              NaN   \n",
       "\n",
       "                                        absolute_url  \\\n",
       "0  https://www.courtlistener.com/opinion/2659301/...   \n",
       "1  https://www.courtlistener.com/opinion/2659301/...   \n",
       "2  https://www.courtlistener.com/opinion/2659301/...   \n",
       "3  https://www.courtlistener.com/opinion/2654533/...   \n",
       "4  https://www.courtlistener.com/opinion/2654533/...   \n",
       "\n",
       "                                             cluster  year_filed   scdb_id  \\\n",
       "0  https://www.courtlistener.com/api/rest/v3/clus...        2014  2013-033   \n",
       "1  https://www.courtlistener.com/api/rest/v3/clus...        2014  2013-033   \n",
       "2  https://www.courtlistener.com/api/rest/v3/clus...        2014  2013-033   \n",
       "3  https://www.courtlistener.com/api/rest/v3/clus...        2014       NaN   \n",
       "4  https://www.courtlistener.com/api/rest/v3/clus...        2014       NaN   \n",
       "\n",
       "   scdb_decision_direction  scdb_votes_majority  scdb_votes_minority  \\\n",
       "0                      1.0                  5.0                  4.0   \n",
       "1                      1.0                  5.0                  4.0   \n",
       "2                      1.0                  5.0                  4.0   \n",
       "3                      NaN                  NaN                  NaN   \n",
       "4                      NaN                  NaN                  NaN   \n",
       "\n",
       "                                                text   length  \n",
       "0  There is no right more basic in our democracy ...  80851.0  \n",
       "1  I adhere to the view that this Court’s decisio...   9875.0  \n",
       "2  Nearly 40 years ago in Buckley v. Valeo, 424 U...  61132.0  \n",
       "3  A federal statute, 21 U.S. C. §853(e), authori...  44457.0  \n",
       "4  An individual facing serious criminal charges ...  36936.0  "
      ]
     },
     "execution_count": 3,
     "metadata": {},
     "output_type": "execute_result"
    }
   ],
   "source": [
    "df['length'] = np.nan\n",
    "for i, opinion in enumerate(df['text']):\n",
    "    df.loc[i, 'length'] = len(opinion)\n",
    "\n",
    "df.head()"
   ]
  },
  {
   "cell_type": "code",
   "execution_count": 4,
   "metadata": {},
   "outputs": [
    {
     "name": "stdout",
     "output_type": "stream",
     "text": [
      "<class 'pandas.core.frame.DataFrame'>\n",
      "RangeIndex: 10389 entries, 0 to 10388\n",
      "Data columns (total 15 columns):\n",
      "author_name                10389 non-null object\n",
      "category                   10389 non-null object\n",
      "per_curiam                 10389 non-null bool\n",
      "case_name                  10389 non-null object\n",
      "date_filed                 10389 non-null object\n",
      "federal_cite_one           10387 non-null object\n",
      "absolute_url               10389 non-null object\n",
      "cluster                    10389 non-null object\n",
      "year_filed                 10389 non-null int64\n",
      "scdb_id                    10295 non-null object\n",
      "scdb_decision_direction    10295 non-null float64\n",
      "scdb_votes_majority        10295 non-null float64\n",
      "scdb_votes_minority        10295 non-null float64\n",
      "text                       10389 non-null object\n",
      "length                     10389 non-null float64\n",
      "dtypes: bool(1), float64(4), int64(1), object(9)\n",
      "memory usage: 1.1+ MB\n"
     ]
    }
   ],
   "source": [
    "df.info()"
   ]
  },
  {
   "cell_type": "code",
   "execution_count": 5,
   "metadata": {},
   "outputs": [],
   "source": [
    "# Drop cases with unknown decision direction and vote counts\n",
    "df = df.dropna()\n",
    "# Reset index after dropping rows\n",
    "df = df.reset_index(drop=True)"
   ]
  },
  {
   "cell_type": "code",
   "execution_count": 6,
   "metadata": {},
   "outputs": [
    {
     "name": "stdout",
     "output_type": "stream",
     "text": [
      "<class 'pandas.core.frame.DataFrame'>\n",
      "RangeIndex: 10295 entries, 0 to 10294\n",
      "Data columns (total 15 columns):\n",
      "author_name                10295 non-null object\n",
      "category                   10295 non-null object\n",
      "per_curiam                 10295 non-null bool\n",
      "case_name                  10295 non-null object\n",
      "date_filed                 10295 non-null object\n",
      "federal_cite_one           10295 non-null object\n",
      "absolute_url               10295 non-null object\n",
      "cluster                    10295 non-null object\n",
      "year_filed                 10295 non-null int64\n",
      "scdb_id                    10295 non-null object\n",
      "scdb_decision_direction    10295 non-null float64\n",
      "scdb_votes_majority        10295 non-null float64\n",
      "scdb_votes_minority        10295 non-null float64\n",
      "text                       10295 non-null object\n",
      "length                     10295 non-null float64\n",
      "dtypes: bool(1), float64(4), int64(1), object(9)\n",
      "memory usage: 1.1+ MB\n"
     ]
    }
   ],
   "source": [
    "df.info()"
   ]
  },
  {
   "cell_type": "code",
   "execution_count": 7,
   "metadata": {},
   "outputs": [
    {
     "data": {
      "text/plain": [
       "False    9187\n",
       "True     1108\n",
       "Name: per_curiam, dtype: int64"
      ]
     },
     "execution_count": 7,
     "metadata": {},
     "output_type": "execute_result"
    }
   ],
   "source": [
    "df.per_curiam.value_counts()"
   ]
  },
  {
   "cell_type": "code",
   "execution_count": 8,
   "metadata": {},
   "outputs": [],
   "source": [
    "# Per curiam refers to opinions that are unanimous and are written collectively.\n",
    "# Drop opinions that are per curiam as we are interested in analyzing specific authors.\n",
    "df = df[df.per_curiam == False]"
   ]
  },
  {
   "cell_type": "code",
   "execution_count": 9,
   "metadata": {},
   "outputs": [
    {
     "data": {
      "text/plain": [
       "False    9187\n",
       "Name: per_curiam, dtype: int64"
      ]
     },
     "execution_count": 9,
     "metadata": {},
     "output_type": "execute_result"
    }
   ],
   "source": [
    "df.per_curiam.value_counts()"
   ]
  },
  {
   "cell_type": "code",
   "execution_count": 10,
   "metadata": {},
   "outputs": [
    {
     "data": {
      "text/plain": [
       "justice stevens                          1070\n",
       "justice rehnquist                         715\n",
       "justice brennan                           688\n",
       "justice scalia                            660\n",
       "justice white                             639\n",
       "justice blackmun                          624\n",
       "justice marshall                          564\n",
       "justice o'connor                          510\n",
       "justice thomas                            444\n",
       "justice powell                            442\n",
       "justice kennedy                           414\n",
       "justice burger                            399\n",
       "justice breyer                            339\n",
       "justice ginsburg                          335\n",
       "justice stewart                           315\n",
       "justice souter                            283\n",
       "justice douglas                           243\n",
       "justice alito                             162\n",
       "justice sotomayor                         106\n",
       "justice roberts                            74\n",
       "justice kagan                              60\n",
       "justice black                              51\n",
       "justice harlan                             42\n",
       "justice o2122                               2\n",
       "justice bruger                              1\n",
       "justice gorsuch                             1\n",
       "justice fuller                              1\n",
       "justice connor                              1\n",
       "justice black;                              1\n",
       "justice [[author]]ginsburg[[/author]]       1\n",
       "Name: author_name, dtype: int64"
      ]
     },
     "execution_count": 10,
     "metadata": {},
     "output_type": "execute_result"
    }
   ],
   "source": [
    "df.author_name.value_counts()"
   ]
  },
  {
   "cell_type": "code",
   "execution_count": 11,
   "metadata": {},
   "outputs": [
    {
     "data": {
      "text/plain": [
       "justice stevens      1070\n",
       "justice rehnquist     715\n",
       "justice brennan       688\n",
       "justice scalia        660\n",
       "justice white         639\n",
       "justice blackmun      624\n",
       "justice marshall      564\n",
       "justice o'connor      510\n",
       "justice thomas        444\n",
       "justice powell        442\n",
       "justice kennedy       414\n",
       "justice burger        399\n",
       "justice breyer        339\n",
       "justice ginsburg      335\n",
       "justice stewart       315\n",
       "justice souter        283\n",
       "justice douglas       243\n",
       "justice alito         162\n",
       "justice sotomayor     106\n",
       "justice roberts        74\n",
       "justice kagan          60\n",
       "justice black          51\n",
       "justice harlan         42\n",
       "Name: author_name, dtype: int64"
      ]
     },
     "execution_count": 11,
     "metadata": {},
     "output_type": "execute_result"
    }
   ],
   "source": [
    "# Drop justices without significant number of opinions\n",
    "least_justices = ['justice o2122', 'justice connor', 'justice fuller', \n",
    "                  'justice gorsuch', 'justice black;', 'justice bruger',\n",
    "                  'justice [[author]]ginsburg[[/author]]']\n",
    "for justice in least_justices:\n",
    "    df = df[df.author_name != justice]\n",
    "\n",
    "df.author_name.value_counts()"
   ]
  },
  {
   "cell_type": "code",
   "execution_count": 12,
   "metadata": {},
   "outputs": [
    {
     "name": "stdout",
     "output_type": "stream",
     "text": [
      "<class 'pandas.core.frame.DataFrame'>\n",
      "Int64Index: 9179 entries, 0 to 10294\n",
      "Data columns (total 15 columns):\n",
      "author_name                9179 non-null object\n",
      "category                   9179 non-null object\n",
      "per_curiam                 9179 non-null bool\n",
      "case_name                  9179 non-null object\n",
      "date_filed                 9179 non-null object\n",
      "federal_cite_one           9179 non-null object\n",
      "absolute_url               9179 non-null object\n",
      "cluster                    9179 non-null object\n",
      "year_filed                 9179 non-null int64\n",
      "scdb_id                    9179 non-null object\n",
      "scdb_decision_direction    9179 non-null float64\n",
      "scdb_votes_majority        9179 non-null float64\n",
      "scdb_votes_minority        9179 non-null float64\n",
      "text                       9179 non-null object\n",
      "length                     9179 non-null float64\n",
      "dtypes: bool(1), float64(4), int64(1), object(9)\n",
      "memory usage: 1.1+ MB\n"
     ]
    }
   ],
   "source": [
    "df.info()"
   ]
  },
  {
   "cell_type": "code",
   "execution_count": 13,
   "metadata": {},
   "outputs": [
    {
     "data": {
      "text/plain": [
       "<matplotlib.axes._subplots.AxesSubplot at 0x2bc00013588>"
      ]
     },
     "execution_count": 13,
     "metadata": {},
     "output_type": "execute_result"
    },
    {
     "data": {
      "image/png": "[encoded data removed]",
      "text/plain": [
       "<Figure size 432x288 with 1 Axes>"
      ]
     },
     "metadata": {
      "needs_background": "light"
     },
     "output_type": "display_data"
    }
   ],
   "source": [
    "sns.distplot(df.length)"
   ]
  },
  {
   "cell_type": "code",
   "execution_count": 14,
   "metadata": {},
   "outputs": [
    {
     "data": {
      "text/plain": [
       "count      9179.000000\n",
       "mean      19965.471838\n",
       "std       16177.394977\n",
       "min          91.000000\n",
       "25%        8751.500000\n",
       "50%       17232.000000\n",
       "75%       27030.500000\n",
       "max      213084.000000\n",
       "Name: length, dtype: float64"
      ]
     },
     "execution_count": 14,
     "metadata": {},
     "output_type": "execute_result"
    }
   ],
   "source": [
    "df.length.describe()"
   ]
  },
  {
   "cell_type": "markdown",
   "metadata": {},
   "source": [
    "According to the creator of this dataset, a number of the opinions are mini-opinions, acting as addendums to the majority opinion of a case. The spike that is close to 0 in the distribution plot of opinion length represents these opinions. As I am attempting to study the main opinions, I will remove these opinions.\n",
    "\n",
    "I am also going to remove opinions that are more than 100,000 words in length to "
   ]
  },
  {
   "cell_type": "code",
   "execution_count": 15,
   "metadata": {},
   "outputs": [
    {
     "name": "stdout",
     "output_type": "stream",
     "text": [
      "<class 'pandas.core.frame.DataFrame'>\n",
      "RangeIndex: 8138 entries, 0 to 8137\n",
      "Data columns (total 15 columns):\n",
      "author_name                8138 non-null object\n",
      "category                   8138 non-null object\n",
      "per_curiam                 8138 non-null bool\n",
      "case_name                  8138 non-null object\n",
      "date_filed                 8138 non-null object\n",
      "federal_cite_one           8138 non-null object\n",
      "absolute_url               8138 non-null object\n",
      "cluster                    8138 non-null object\n",
      "year_filed                 8138 non-null int64\n",
      "scdb_id                    8138 non-null object\n",
      "scdb_decision_direction    8138 non-null float64\n",
      "scdb_votes_majority        8138 non-null float64\n",
      "scdb_votes_minority        8138 non-null float64\n",
      "text                       8138 non-null object\n",
      "length                     8138 non-null float64\n",
      "dtypes: bool(1), float64(4), int64(1), object(9)\n",
      "memory usage: 898.1+ KB\n"
     ]
    }
   ],
   "source": [
    "df = df[df['length'] > 3000]\n",
    "df = df[df['length'] < 100000]\n",
    "df = df.reset_index(drop=True)\n",
    "df.info()"
   ]
  },
  {
   "cell_type": "markdown",
   "metadata": {},
   "source": [
    "# Visualizations to understand the dataset"
   ]
  },
  {
   "cell_type": "code",
   "execution_count": 16,
   "metadata": {},
   "outputs": [
    {
     "data": {
      "image/png": "[encoded data removed]",
      "text/plain": [
       "<Figure size 432x288 with 1 Axes>"
      ]
     },
     "metadata": {},
     "output_type": "display_data"
    }
   ],
   "source": [
    "# A breakdown of category distribution\n",
    "plt.pie(df.category.value_counts(), \n",
    "        labels=df.category.value_counts().index.tolist(),\n",
    "        autopct='%1.1f%%')\n",
    "plt.show()"
   ]
  },
  {
   "cell_type": "code",
   "execution_count": 17,
   "metadata": {},
   "outputs": [
    {
     "data": {
      "image/png": "[encoded data removed]",
      "text/plain": [
       "<Figure size 432x288 with 1 Axes>"
      ]
     },
     "metadata": {
      "needs_background": "light"
     },
     "output_type": "display_data"
    }
   ],
   "source": [
    "# Year distribution\n",
    "sns.distplot(df.year_filed)\n",
    "plt.show()"
   ]
  },
  {
   "cell_type": "markdown",
   "metadata": {},
   "source": [
    "Every case heard by the court and given a ruling will have a majority opinion written. I will use the majority opinions as a stand-in for the case heard, and break down the share of votes for and against the majority decision for each case."
   ]
  },
  {
   "cell_type": "code",
   "execution_count": 18,
   "metadata": {},
   "outputs": [
    {
     "data": {
      "image/png": "[encoded data removed]",
      "text/plain": [
       "<Figure size 432x288 with 1 Axes>"
      ]
     },
     "metadata": {},
     "output_type": "display_data"
    }
   ],
   "source": [
    "# Breakdown of how many justices vote for majority opinion\n",
    "plt.pie(df.scdb_votes_majority[df['category'] == 'majority'].value_counts(),\n",
    "       labels=df.scdb_votes_majority[df['category'] == 'majority'].value_counts().index.tolist(),\n",
    "       autopct='%1.1f%%')\n",
    "plt.show()"
   ]
  },
  {
   "cell_type": "code",
   "execution_count": 19,
   "metadata": {},
   "outputs": [
    {
     "data": {
      "image/png": "[encoded data removed]",
      "text/plain": [
       "<Figure size 432x288 with 1 Axes>"
      ]
     },
     "metadata": {},
     "output_type": "display_data"
    }
   ],
   "source": [
    "# Breakdown of how many justices vote against majority opinion\n",
    "plt.pie(df.scdb_votes_minority[df['category'] == 'majority'].value_counts(),\n",
    "       labels=df.scdb_votes_minority[df['category'] == 'majority'].value_counts().index.tolist(),\n",
    "       autopct='%1.1f%%')\n",
    "plt.show()"
   ]
  },
  {
   "cell_type": "markdown",
   "metadata": {},
   "source": [
    "Nothing too anomolous stands out about the votes for and against majority opinions breakdown. It's time to move into clustering the opinions.\n",
    "\n",
    "# Clustering\n",
    "\n",
    "I will be attempting to see if I can create clusters that accurately predict the authorship of opinions using tf-idf created features of the text of the opinions."
   ]
  },
  {
   "cell_type": "code",
   "execution_count": 20,
   "metadata": {},
   "outputs": [
    {
     "data": {
      "text/plain": [
       "justice stevens      22\n",
       "justice brennan      17\n",
       "justice scalia       16\n",
       "justice powell       16\n",
       "justice rehnquist    16\n",
       "justice marshall     13\n",
       "justice thomas       13\n",
       "justice white        11\n",
       "justice blackmun     11\n",
       "justice kennedy      10\n",
       "justice breyer        9\n",
       "justice souter        9\n",
       "justice douglas       8\n",
       "justice ginsburg      8\n",
       "justice o'connor      8\n",
       "justice stewart       6\n",
       "justice burger        4\n",
       "justice alito         2\n",
       "justice kagan         2\n",
       "justice roberts       1\n",
       "justice sotomayor     1\n",
       "Name: author_name, dtype: int64"
      ]
     },
     "execution_count": 20,
     "metadata": {},
     "output_type": "execute_result"
    }
   ],
   "source": [
    "'''\n",
    "Before doing any of the modeling work, I am going to randomly reduce the size of the data\n",
    "due to local machine memory usage issues. I will use train_test_split to break out a sample\n",
    "of about 200 opinions to start with, then whittle it down to a sample that has close equal\n",
    "number of opinions for 10 different authors that I can model with.\n",
    "'''\n",
    "\n",
    "from sklearn.model_selection import train_test_split\n",
    "df_sample, df_split = train_test_split(df, test_size=0.975, random_state=1)\n",
    "\n",
    "df_sample.author_name.value_counts()"
   ]
  },
  {
   "cell_type": "code",
   "execution_count": 21,
   "metadata": {},
   "outputs": [
    {
     "data": {
      "text/plain": [
       "justice marshall    13\n",
       "justice thomas      13\n",
       "justice blackmun    11\n",
       "justice white       11\n",
       "justice kennedy     10\n",
       "justice breyer       9\n",
       "justice souter       9\n",
       "justice ginsburg     8\n",
       "justice douglas      8\n",
       "justice o'connor     8\n",
       "Name: author_name, dtype: int64"
      ]
     },
     "execution_count": 21,
     "metadata": {},
     "output_type": "execute_result"
    }
   ],
   "source": [
    "# Drop justices to get my desired sample\n",
    "remove_justices = ['justice stevens', 'justice scalia', 'justice brennan', \n",
    "                  'justice rehnquist', 'justice stewart', 'justice burger',\n",
    "                  'justice kagan', 'justice alito', 'justice sotomayor',\n",
    "                  'justice roberts', 'justice powell']\n",
    "for justice in remove_justices:\n",
    "    df_sample = df_sample[df_sample.author_name != justice]\n",
    "\n",
    "df_sample.author_name.value_counts()"
   ]
  },
  {
   "cell_type": "code",
   "execution_count": 22,
   "metadata": {},
   "outputs": [
    {
     "name": "stdout",
     "output_type": "stream",
     "text": [
      "<class 'pandas.core.frame.DataFrame'>\n",
      "RangeIndex: 100 entries, 0 to 99\n",
      "Data columns (total 15 columns):\n",
      "author_name                100 non-null object\n",
      "category                   100 non-null object\n",
      "per_curiam                 100 non-null bool\n",
      "case_name                  100 non-null object\n",
      "date_filed                 100 non-null object\n",
      "federal_cite_one           100 non-null object\n",
      "absolute_url               100 non-null object\n",
      "cluster                    100 non-null object\n",
      "year_filed                 100 non-null int64\n",
      "scdb_id                    100 non-null object\n",
      "scdb_decision_direction    100 non-null float64\n",
      "scdb_votes_majority        100 non-null float64\n",
      "scdb_votes_minority        100 non-null float64\n",
      "text                       100 non-null object\n",
      "length                     100 non-null float64\n",
      "dtypes: bool(1), float64(4), int64(1), object(9)\n",
      "memory usage: 11.1+ KB\n"
     ]
    }
   ],
   "source": [
    "df_sample = df_sample.reset_index(drop=True)\n",
    "df_sample.info()"
   ]
  },
  {
   "cell_type": "markdown",
   "metadata": {},
   "source": [
    "## Cleaning, Parsing, and Lemmatizing"
   ]
  },
  {
   "cell_type": "code",
   "execution_count": 23,
   "metadata": {},
   "outputs": [],
   "source": [
    "parser = spacy.load('en')\n",
    "\n",
    "# This cleaning function made specifically for the supreme court opinions\n",
    "# by Garrett Fiddler at https://www.kaggle.com/gqfiddler/preliminary-analysis-and-topic-modeling\n",
    "def clean(text):\n",
    "    # recipe from https://stackoverflow.com/questions/6116978/how-to-replace-multiple-substrings-of-a-string\n",
    "    rep = {\n",
    "        '\\s+':' ', # reduces any whitespace to a single space\n",
    "        '\\'s':'', # removes possessives, and there are virtually no contractions in the texts\n",
    "        '’s':'',\n",
    "        '\\r':'',\n",
    "        'u. s. c.': 'u.s.c.', # federal statute citation\n",
    "        'u. s.': ''\n",
    "    }\n",
    "    rep = dict((re.escape(k), v) for k, v in rep.items())\n",
    "    pattern = re.compile(\"|\".join(rep.keys()))\n",
    "    text = pattern.sub(lambda m: rep[re.escape(m.group(0))], text)\n",
    "    text = re.sub('\\s+', ' ', text) # doesn't work in the rep dict for some reason...\n",
    "    return text\n",
    "\n",
    "\n",
    "# Clean, parse, lemmatize, and strip out punctuation, stopwords, numbers, and named entities\n",
    "for i, opinion in enumerate(df_sample['text']):\n",
    "    opinion = parser(clean(opinion))\n",
    "    opinion = ' '.join(token.lemma_\n",
    "                      for token in opinion\n",
    "                      if not token.is_punct\n",
    "                      and not token.is_stop\n",
    "                      and not token.like_num\n",
    "                      and token.ent_iob == 2)\n",
    "    df_sample.at[i, 'text'] = opinion"
   ]
  },
  {
   "cell_type": "code",
   "execution_count": 24,
   "metadata": {},
   "outputs": [],
   "source": [
    "# Free up memory space\n",
    "del df, df_split\n",
    "# Now create an actual train and test split with 25% test size\n",
    "df_train, df_test = train_test_split(df_sample, test_size=0.25, random_state=42)\n",
    "# Keep the indexes clean\n",
    "df_train = df_train.reset_index(drop=True)\n",
    "df_test = df_test.reset_index(drop=True)"
   ]
  },
  {
   "cell_type": "markdown",
   "metadata": {},
   "source": [
    "## Latent Semantic Analysis Feature Creation w/Tfidf"
   ]
  },
  {
   "cell_type": "code",
   "execution_count": 25,
   "metadata": {},
   "outputs": [
    {
     "name": "stdout",
     "output_type": "stream",
     "text": [
      "Number of features:  5140\n"
     ]
    }
   ],
   "source": [
    "from sklearn.feature_extraction.text import TfidfVectorizer\n",
    "\n",
    "vectorizer = TfidfVectorizer(max_df=0.75, # drop words that occur in more than three-quarters of the sentences\n",
    "                             min_df=2, # only use words that appear at least twice\n",
    "                             stop_words='english', \n",
    "                             lowercase=True,\n",
    "                             use_idf=True,\n",
    "                             norm='l2',\n",
    "                             smooth_idf=True \n",
    "                             )\n",
    "\n",
    "df_tfidf = vectorizer.fit_transform(df_sample.text)\n",
    "\n",
    "print('Number of features: ', df_tfidf.shape[1])"
   ]
  },
  {
   "cell_type": "code",
   "execution_count": 26,
   "metadata": {},
   "outputs": [],
   "source": [
    "df_train_tfidf, df_test_tfidf=train_test_split(df_tfidf, test_size=0.25, random_state=42)"
   ]
  },
  {
   "cell_type": "code",
   "execution_count": 27,
   "metadata": {},
   "outputs": [
    {
     "name": "stdout",
     "output_type": "stream",
     "text": [
      "Percent variance captured by all components: 80.19425959544829\n"
     ]
    }
   ],
   "source": [
    "from sklearn.decomposition import TruncatedSVD\n",
    "from sklearn.pipeline import make_pipeline\n",
    "from sklearn.preprocessing import Normalizer\n",
    "\n",
    "#Our SVD data reducer. We are going to reduce the feature space from 5140 to 50.\n",
    "svd= TruncatedSVD(50)\n",
    "lsa = make_pipeline(svd, Normalizer(copy=False))\n",
    "# Run SVD on the training data, then project the training data.\n",
    "df_train_lsa = lsa.fit_transform(df_train_tfidf)\n",
    "\n",
    "variance_explained=svd.explained_variance_ratio_\n",
    "total_variance = variance_explained.sum()\n",
    "print(\"Percent variance captured by all components:\",total_variance*100)"
   ]
  },
  {
   "cell_type": "code",
   "execution_count": 28,
   "metadata": {},
   "outputs": [
    {
     "data": {
      "text/plain": [
       "(75, 50)"
      ]
     },
     "execution_count": 28,
     "metadata": {},
     "output_type": "execute_result"
    }
   ],
   "source": [
    "df_train_lsa.shape"
   ]
  },
  {
   "cell_type": "code",
   "execution_count": 29,
   "metadata": {},
   "outputs": [],
   "source": [
    "df_train_lsa = pd.DataFrame(df_train_lsa)\n",
    "df_train_lsa['author_name'] = df_train['author_name']"
   ]
  },
  {
   "cell_type": "code",
   "execution_count": 30,
   "metadata": {},
   "outputs": [
    {
     "data": {
      "text/html": [
       "<div>\n",
       "<style scoped>\n",
       "    .dataframe tbody tr th:only-of-type {\n",
       "        vertical-align: middle;\n",
       "    }\n",
       "\n",
       "    .dataframe tbody tr th {\n",
       "        vertical-align: top;\n",
       "    }\n",
       "\n",
       "    .dataframe thead th {\n",
       "        text-align: right;\n",
       "    }\n",
       "</style>\n",
       "<table border=\"1\" class=\"dataframe\">\n",
       "  <thead>\n",
       "    <tr style=\"text-align: right;\">\n",
       "      <th></th>\n",
       "      <th>0</th>\n",
       "      <th>1</th>\n",
       "      <th>2</th>\n",
       "      <th>3</th>\n",
       "      <th>4</th>\n",
       "      <th>5</th>\n",
       "      <th>6</th>\n",
       "      <th>7</th>\n",
       "      <th>8</th>\n",
       "      <th>9</th>\n",
       "      <th>...</th>\n",
       "      <th>41</th>\n",
       "      <th>42</th>\n",
       "      <th>43</th>\n",
       "      <th>44</th>\n",
       "      <th>45</th>\n",
       "      <th>46</th>\n",
       "      <th>47</th>\n",
       "      <th>48</th>\n",
       "      <th>49</th>\n",
       "      <th>author_name</th>\n",
       "    </tr>\n",
       "  </thead>\n",
       "  <tbody>\n",
       "    <tr>\n",
       "      <th>0</th>\n",
       "      <td>0.419904</td>\n",
       "      <td>0.016656</td>\n",
       "      <td>-0.067627</td>\n",
       "      <td>0.031665</td>\n",
       "      <td>-0.200989</td>\n",
       "      <td>-0.217144</td>\n",
       "      <td>0.194815</td>\n",
       "      <td>-0.063431</td>\n",
       "      <td>0.502082</td>\n",
       "      <td>-0.275664</td>\n",
       "      <td>...</td>\n",
       "      <td>-0.060746</td>\n",
       "      <td>0.033330</td>\n",
       "      <td>-0.122781</td>\n",
       "      <td>0.096662</td>\n",
       "      <td>-0.160623</td>\n",
       "      <td>0.052808</td>\n",
       "      <td>0.005613</td>\n",
       "      <td>0.033849</td>\n",
       "      <td>-0.007088</td>\n",
       "      <td>justice ginsburg</td>\n",
       "    </tr>\n",
       "    <tr>\n",
       "      <th>1</th>\n",
       "      <td>0.361250</td>\n",
       "      <td>-0.275036</td>\n",
       "      <td>0.051052</td>\n",
       "      <td>-0.272484</td>\n",
       "      <td>-0.218524</td>\n",
       "      <td>0.280038</td>\n",
       "      <td>0.057867</td>\n",
       "      <td>0.517273</td>\n",
       "      <td>0.073478</td>\n",
       "      <td>0.145968</td>\n",
       "      <td>...</td>\n",
       "      <td>0.026256</td>\n",
       "      <td>-0.031535</td>\n",
       "      <td>0.027995</td>\n",
       "      <td>0.039566</td>\n",
       "      <td>0.008865</td>\n",
       "      <td>-0.037532</td>\n",
       "      <td>-0.035588</td>\n",
       "      <td>0.037594</td>\n",
       "      <td>0.018622</td>\n",
       "      <td>justice thomas</td>\n",
       "    </tr>\n",
       "    <tr>\n",
       "      <th>2</th>\n",
       "      <td>0.262347</td>\n",
       "      <td>0.102148</td>\n",
       "      <td>-0.101316</td>\n",
       "      <td>-0.009353</td>\n",
       "      <td>-0.119948</td>\n",
       "      <td>0.059832</td>\n",
       "      <td>0.283853</td>\n",
       "      <td>-0.083819</td>\n",
       "      <td>-0.054179</td>\n",
       "      <td>-0.076947</td>\n",
       "      <td>...</td>\n",
       "      <td>0.145979</td>\n",
       "      <td>0.016953</td>\n",
       "      <td>-0.054004</td>\n",
       "      <td>-0.062506</td>\n",
       "      <td>-0.159065</td>\n",
       "      <td>0.089912</td>\n",
       "      <td>-0.032224</td>\n",
       "      <td>-0.130528</td>\n",
       "      <td>-0.045751</td>\n",
       "      <td>justice ginsburg</td>\n",
       "    </tr>\n",
       "    <tr>\n",
       "      <th>3</th>\n",
       "      <td>0.239289</td>\n",
       "      <td>-0.087434</td>\n",
       "      <td>-0.006309</td>\n",
       "      <td>-0.114153</td>\n",
       "      <td>-0.002076</td>\n",
       "      <td>-0.007821</td>\n",
       "      <td>-0.087497</td>\n",
       "      <td>-0.226041</td>\n",
       "      <td>-0.010225</td>\n",
       "      <td>-0.166707</td>\n",
       "      <td>...</td>\n",
       "      <td>0.022909</td>\n",
       "      <td>-0.117570</td>\n",
       "      <td>0.040102</td>\n",
       "      <td>-0.023936</td>\n",
       "      <td>0.003396</td>\n",
       "      <td>-0.012556</td>\n",
       "      <td>-0.036578</td>\n",
       "      <td>-0.059315</td>\n",
       "      <td>-0.059679</td>\n",
       "      <td>justice white</td>\n",
       "    </tr>\n",
       "    <tr>\n",
       "      <th>4</th>\n",
       "      <td>0.166708</td>\n",
       "      <td>-0.050570</td>\n",
       "      <td>-0.000498</td>\n",
       "      <td>0.017055</td>\n",
       "      <td>-0.053079</td>\n",
       "      <td>-0.054814</td>\n",
       "      <td>0.051313</td>\n",
       "      <td>0.094823</td>\n",
       "      <td>-0.099575</td>\n",
       "      <td>0.032914</td>\n",
       "      <td>...</td>\n",
       "      <td>-0.062556</td>\n",
       "      <td>-0.221854</td>\n",
       "      <td>0.257257</td>\n",
       "      <td>-0.065719</td>\n",
       "      <td>0.042487</td>\n",
       "      <td>0.096585</td>\n",
       "      <td>0.048236</td>\n",
       "      <td>0.028224</td>\n",
       "      <td>0.076482</td>\n",
       "      <td>justice thomas</td>\n",
       "    </tr>\n",
       "  </tbody>\n",
       "</table>\n",
       "<p>5 rows × 51 columns</p>\n",
       "</div>"
      ],
      "text/plain": [
       "          0         1         2         3         4         5         6  \\\n",
       "0  0.419904  0.016656 -0.067627  0.031665 -0.200989 -0.217144  0.194815   \n",
       "1  0.361250 -0.275036  0.051052 -0.272484 -0.218524  0.280038  0.057867   \n",
       "2  0.262347  0.102148 -0.101316 -0.009353 -0.119948  0.059832  0.283853   \n",
       "3  0.239289 -0.087434 -0.006309 -0.114153 -0.002076 -0.007821 -0.087497   \n",
       "4  0.166708 -0.050570 -0.000498  0.017055 -0.053079 -0.054814  0.051313   \n",
       "\n",
       "          7         8         9  ...        41        42        43        44  \\\n",
       "0 -0.063431  0.502082 -0.275664  ... -0.060746  0.033330 -0.122781  0.096662   \n",
       "1  0.517273  0.073478  0.145968  ...  0.026256 -0.031535  0.027995  0.039566   \n",
       "2 -0.083819 -0.054179 -0.076947  ...  0.145979  0.016953 -0.054004 -0.062506   \n",
       "3 -0.226041 -0.010225 -0.166707  ...  0.022909 -0.117570  0.040102 -0.023936   \n",
       "4  0.094823 -0.099575  0.032914  ... -0.062556 -0.221854  0.257257 -0.065719   \n",
       "\n",
       "         45        46        47        48        49       author_name  \n",
       "0 -0.160623  0.052808  0.005613  0.033849 -0.007088  justice ginsburg  \n",
       "1  0.008865 -0.037532 -0.035588  0.037594  0.018622    justice thomas  \n",
       "2 -0.159065  0.089912 -0.032224 -0.130528 -0.045751  justice ginsburg  \n",
       "3  0.003396 -0.012556 -0.036578 -0.059315 -0.059679     justice white  \n",
       "4  0.042487  0.096585  0.048236  0.028224  0.076482    justice thomas  \n",
       "\n",
       "[5 rows x 51 columns]"
      ]
     },
     "execution_count": 30,
     "metadata": {},
     "output_type": "execute_result"
    }
   ],
   "source": [
    "df_train_lsa.head()"
   ]
  },
  {
   "cell_type": "code",
   "execution_count": 31,
   "metadata": {},
   "outputs": [
    {
     "data": {
      "image/png": "[encoded data removed]",
      "text/plain": [
       "<Figure size 720x720 with 1 Axes>"
      ]
     },
     "metadata": {
      "needs_background": "light"
     },
     "output_type": "display_data"
    }
   ],
   "source": [
    "# Run the features through clustering models\n",
    "from sklearn.cluster import KMeans\n",
    "\n",
    "X = df_train_lsa.drop(columns=['author_name'])\n",
    "km_clusters = KMeans(n_clusters=2, random_state=42).fit_predict(X)\n",
    "\n",
    "# Create 2-dimensional space for clustering visualization\n",
    "from sklearn.decomposition import PCA\n",
    "X = PCA(2).fit_transform(X)\n",
    "\n",
    "plt.figure(figsize=(10,10))\n",
    "sns.scatterplot(x=X[:,0], y=X[:,1], hue=df_train_lsa['author_name'], \n",
    "                style=km_clusters, legend='brief')\n",
    "plt.show()"
   ]
  },
  {
   "cell_type": "code",
   "execution_count": 32,
   "metadata": {},
   "outputs": [
    {
     "name": "stdout",
     "output_type": "stream",
     "text": [
      "author_name  justice blackmun  justice breyer  justice douglas  \\\n",
      "row_0                                                            \n",
      "0                           2               7                2   \n",
      "1                           6               0                3   \n",
      "\n",
      "author_name  justice ginsburg  justice kennedy  justice marshall  \\\n",
      "row_0                                                              \n",
      "0                           5                3                 2   \n",
      "1                           3                5                 6   \n",
      "\n",
      "author_name  justice o'connor  justice souter  justice thomas  justice white  \n",
      "row_0                                                                         \n",
      "0                           1               3               3              8  \n",
      "1                           4               4               6              2  \n"
     ]
    }
   ],
   "source": [
    "print(pd.crosstab(km_clusters, df_train_lsa['author_name']))"
   ]
  },
  {
   "cell_type": "markdown",
   "metadata": {},
   "source": [
    "This seems to put most justices samples fairly equally separated into the two clusters. Basically, there isn't much authorship differentiation here. Let's change the amount of clusters to see if we get more illuminating results"
   ]
  },
  {
   "cell_type": "code",
   "execution_count": 33,
   "metadata": {},
   "outputs": [
    {
     "data": {
      "image/png": "[encoded data removed]",
      "text/plain": [
       "<Figure size 720x720 with 1 Axes>"
      ]
     },
     "metadata": {
      "needs_background": "light"
     },
     "output_type": "display_data"
    }
   ],
   "source": [
    "# Run the features through clustering models\n",
    "from sklearn.cluster import KMeans\n",
    "\n",
    "X = df_train_lsa.drop(columns=['author_name'])\n",
    "km_clusters = KMeans(n_clusters=3, random_state=42).fit_predict(X)\n",
    "\n",
    "# Create 2-dimensional space for clustering visualization\n",
    "from sklearn.decomposition import PCA\n",
    "X = PCA(2).fit_transform(X)\n",
    "\n",
    "plt.figure(figsize=(10,10))\n",
    "sns.scatterplot(x=X[:,0], y=X[:,1], hue=df_train_lsa['author_name'], \n",
    "                style=km_clusters, legend='brief')\n",
    "plt.show()"
   ]
  },
  {
   "cell_type": "code",
   "execution_count": 34,
   "metadata": {},
   "outputs": [
    {
     "name": "stdout",
     "output_type": "stream",
     "text": [
      "author_name  justice blackmun  justice breyer  justice douglas  \\\n",
      "row_0                                                            \n",
      "0                           1               0                1   \n",
      "1                           5               2                3   \n",
      "2                           2               5                1   \n",
      "\n",
      "author_name  justice ginsburg  justice kennedy  justice marshall  \\\n",
      "row_0                                                              \n",
      "0                           1                1                 1   \n",
      "1                           4                4                 3   \n",
      "2                           3                3                 4   \n",
      "\n",
      "author_name  justice o'connor  justice souter  justice thomas  justice white  \n",
      "row_0                                                                         \n",
      "0                           1               0               1              2  \n",
      "1                           3               4               5              1  \n",
      "2                           1               3               3              7  \n"
     ]
    }
   ],
   "source": [
    "print(pd.crosstab(km_clusters, df_train_lsa['author_name']))"
   ]
  },
  {
   "cell_type": "markdown",
   "metadata": {},
   "source": [
    "This seems to be even more meaninglessly divided. I will attempt other methods of clustering to see if there are better results."
   ]
  },
  {
   "cell_type": "code",
   "execution_count": 35,
   "metadata": {},
   "outputs": [
    {
     "data": {
      "image/png": "[encoded data removed]",
      "text/plain": [
       "<Figure size 720x720 with 1 Axes>"
      ]
     },
     "metadata": {
      "needs_background": "light"
     },
     "output_type": "display_data"
    }
   ],
   "source": [
    "from sklearn.cluster import MeanShift, estimate_bandwidth\n",
    "\n",
    "X = df_train_lsa.drop(columns=['author_name'])\n",
    "bandwidth = estimate_bandwidth(X)\n",
    "ms_clusters = MeanShift(bandwidth=bandwidth).fit_predict(X)\n",
    "\n",
    "# Create 2-dimensional space for clustering visualization\n",
    "from sklearn.decomposition import PCA\n",
    "X = PCA(2).fit_transform(X)\n",
    "\n",
    "plt.figure(figsize=(10,10))\n",
    "sns.scatterplot(x=X[:,0], y=X[:,1], hue=df_train_lsa['author_name'], \n",
    "                style=ms_clusters, legend='brief')\n",
    "plt.show()"
   ]
  },
  {
   "cell_type": "code",
   "execution_count": 36,
   "metadata": {},
   "outputs": [
    {
     "name": "stdout",
     "output_type": "stream",
     "text": [
      "author_name  justice blackmun  justice breyer  justice douglas  \\\n",
      "row_0                                                            \n",
      "0                           8               7                5   \n",
      "\n",
      "author_name  justice ginsburg  justice kennedy  justice marshall  \\\n",
      "row_0                                                              \n",
      "0                           8                8                 8   \n",
      "\n",
      "author_name  justice o'connor  justice souter  justice thomas  justice white  \n",
      "row_0                                                                         \n",
      "0                           5               7               9             10  \n"
     ]
    }
   ],
   "source": [
    "print(pd.crosstab(ms_clusters, df_train_lsa['author_name']))"
   ]
  },
  {
   "cell_type": "markdown",
   "metadata": {},
   "source": [
    "This is a fail, as it only gave one cluster. Not helpful! Let's move on to see how Spectral Clustering does."
   ]
  },
  {
   "cell_type": "code",
   "execution_count": 37,
   "metadata": {},
   "outputs": [
    {
     "data": {
      "image/png": "[encoded data removed]",
      "text/plain": [
       "<Figure size 720x720 with 1 Axes>"
      ]
     },
     "metadata": {
      "needs_background": "light"
     },
     "output_type": "display_data"
    }
   ],
   "source": [
    "from sklearn.cluster import SpectralClustering\n",
    "\n",
    "X = df_train_lsa.drop(columns=['author_name'])\n",
    "sc_clusters = SpectralClustering(n_clusters=2).fit_predict(X)\n",
    "\n",
    "# Create 2-dimensional space for clustering visualization\n",
    "from sklearn.decomposition import PCA\n",
    "X = PCA(2).fit_transform(X)\n",
    "\n",
    "plt.figure(figsize=(10,10))\n",
    "sns.scatterplot(x=X[:,0], y=X[:,1], hue=df_train_lsa['author_name'], \n",
    "                style=sc_clusters, legend='brief')\n",
    "plt.show()"
   ]
  },
  {
   "cell_type": "code",
   "execution_count": 38,
   "metadata": {},
   "outputs": [
    {
     "name": "stdout",
     "output_type": "stream",
     "text": [
      "author_name  justice blackmun  justice breyer  justice douglas  \\\n",
      "row_0                                                            \n",
      "0                           7               7                5   \n",
      "1                           1               0                0   \n",
      "\n",
      "author_name  justice ginsburg  justice kennedy  justice marshall  \\\n",
      "row_0                                                              \n",
      "0                           8                7                 7   \n",
      "1                           0                1                 1   \n",
      "\n",
      "author_name  justice o'connor  justice souter  justice thomas  justice white  \n",
      "row_0                                                                         \n",
      "0                           4               7               9              9  \n",
      "1                           1               0               0              1  \n"
     ]
    }
   ],
   "source": [
    "print(pd.crosstab(sc_clusters, df_train_lsa['author_name']))"
   ]
  },
  {
   "cell_type": "markdown",
   "metadata": {},
   "source": [
    "Oof. How about spectral with more clusters?"
   ]
  },
  {
   "cell_type": "code",
   "execution_count": 39,
   "metadata": {},
   "outputs": [
    {
     "data": {
      "image/png": "[encoded data removed]",
      "text/plain": [
       "<Figure size 720x720 with 1 Axes>"
      ]
     },
     "metadata": {
      "needs_background": "light"
     },
     "output_type": "display_data"
    }
   ],
   "source": [
    "from sklearn.cluster import SpectralClustering\n",
    "\n",
    "X = df_train_lsa.drop(columns=['author_name'])\n",
    "sc_clusters = SpectralClustering(n_clusters=3).fit_predict(X)\n",
    "\n",
    "# Create 2-dimensional space for clustering visualization\n",
    "from sklearn.decomposition import PCA\n",
    "X = PCA(2).fit_transform(X)\n",
    "\n",
    "plt.figure(figsize=(10,10))\n",
    "sns.scatterplot(x=X[:,0], y=X[:,1], hue=df_train_lsa['author_name'], \n",
    "                style=sc_clusters, legend='brief')\n",
    "plt.show()"
   ]
  },
  {
   "cell_type": "code",
   "execution_count": 40,
   "metadata": {},
   "outputs": [
    {
     "name": "stdout",
     "output_type": "stream",
     "text": [
      "author_name  justice blackmun  justice breyer  justice douglas  \\\n",
      "row_0                                                            \n",
      "0                           6               7                4   \n",
      "1                           1               0                1   \n",
      "2                           1               0                0   \n",
      "\n",
      "author_name  justice ginsburg  justice kennedy  justice marshall  \\\n",
      "row_0                                                              \n",
      "0                           8                5                 7   \n",
      "1                           0                2                 0   \n",
      "2                           0                1                 1   \n",
      "\n",
      "author_name  justice o'connor  justice souter  justice thomas  justice white  \n",
      "row_0                                                                         \n",
      "0                           4               7               8              9  \n",
      "1                           0               0               1              0  \n",
      "2                           1               0               0              1  \n"
     ]
    }
   ],
   "source": [
    "print(pd.crosstab(sc_clusters, df_train_lsa['author_name']))"
   ]
  },
  {
   "cell_type": "code",
   "execution_count": 41,
   "metadata": {},
   "outputs": [
    {
     "data": {
      "image/png": "[encoded data removed]",
      "text/plain": [
       "<Figure size 720x720 with 1 Axes>"
      ]
     },
     "metadata": {
      "needs_background": "light"
     },
     "output_type": "display_data"
    }
   ],
   "source": [
    "from sklearn.cluster import SpectralClustering\n",
    "\n",
    "X = df_train_lsa.drop(columns=['author_name'])\n",
    "sc_clusters = SpectralClustering(n_clusters=5).fit_predict(X)\n",
    "\n",
    "# Create 2-dimensional space for clustering visualization\n",
    "from sklearn.decomposition import PCA\n",
    "X = PCA(2).fit_transform(X)\n",
    "\n",
    "plt.figure(figsize=(10,10))\n",
    "sns.scatterplot(x=X[:,0], y=X[:,1], hue=df_train_lsa['author_name'], \n",
    "                style=sc_clusters, legend='brief')\n",
    "plt.show()"
   ]
  },
  {
   "cell_type": "code",
   "execution_count": 42,
   "metadata": {},
   "outputs": [
    {
     "name": "stdout",
     "output_type": "stream",
     "text": [
      "author_name  justice blackmun  justice breyer  justice douglas  \\\n",
      "row_0                                                            \n",
      "0                           4               7                4   \n",
      "1                           1               0                0   \n",
      "2                           1               0                1   \n",
      "3                           0               0                0   \n",
      "4                           2               0                0   \n",
      "\n",
      "author_name  justice ginsburg  justice kennedy  justice marshall  \\\n",
      "row_0                                                              \n",
      "0                           7                3                 6   \n",
      "1                           0                1                 1   \n",
      "2                           0                2                 0   \n",
      "3                           0                1                 0   \n",
      "4                           1                1                 1   \n",
      "\n",
      "author_name  justice o'connor  justice souter  justice thomas  justice white  \n",
      "row_0                                                                         \n",
      "0                           2               6               7              9  \n",
      "1                           1               0               0              1  \n",
      "2                           0               0               1              0  \n",
      "3                           0               1               0              0  \n",
      "4                           2               0               1              0  \n"
     ]
    }
   ],
   "source": [
    "print(pd.crosstab(sc_clusters, df_train_lsa['author_name']))"
   ]
  },
  {
   "cell_type": "markdown",
   "metadata": {},
   "source": [
    "It seems that clustering is not going to come up with a good way of predicting authorship. I will move on to supervised models that will use the latent semantic analysis features."
   ]
  },
  {
   "cell_type": "markdown",
   "metadata": {},
   "source": [
    "# Classification Models"
   ]
  },
  {
   "cell_type": "code",
   "execution_count": 43,
   "metadata": {},
   "outputs": [
    {
     "data": {
      "text/plain": [
       "array([0.        , 0.05555556, 0.1875    , 0.25      , 0.09090909])"
      ]
     },
     "execution_count": 43,
     "metadata": {},
     "output_type": "execute_result"
    }
   ],
   "source": [
    "from sklearn.model_selection import cross_val_score\n",
    "from sklearn.ensemble import GradientBoostingClassifier\n",
    "from sklearn.ensemble import RandomForestClassifier\n",
    "from sklearn.linear_model import LogisticRegression\n",
    "\n",
    "X = df_train_lsa.drop(columns='author_name')\n",
    "y = df_train_lsa['author_name']\n",
    "\n",
    "gbc = GradientBoostingClassifier(n_estimators=1000, max_depth=5, learning_rate=0.1, random_state=42)\n",
    "cross_val_score(gbc, X, y, cv=5)"
   ]
  },
  {
   "cell_type": "code",
   "execution_count": 44,
   "metadata": {},
   "outputs": [
    {
     "data": {
      "text/plain": [
       "array([0.05555556, 0.05555556, 0.1875    , 0.25      , 0.18181818])"
      ]
     },
     "execution_count": 44,
     "metadata": {},
     "output_type": "execute_result"
    }
   ],
   "source": [
    "gbc = GradientBoostingClassifier(n_estimators=1000, max_depth=2, learning_rate=0.1, random_state=42)\n",
    "\n",
    "cross_val_score(gbc, X, y, cv=5)"
   ]
  },
  {
   "cell_type": "code",
   "execution_count": 45,
   "metadata": {},
   "outputs": [
    {
     "data": {
      "text/plain": [
       "array([0.16666667, 0.16666667, 0.1875    , 0.25      , 0.        ])"
      ]
     },
     "execution_count": 45,
     "metadata": {},
     "output_type": "execute_result"
    }
   ],
   "source": [
    "rfc = RandomForestClassifier(n_estimators=1000, max_depth=5, random_state=42)\n",
    "\n",
    "cross_val_score(rfc, X, y, cv=5)"
   ]
  },
  {
   "cell_type": "code",
   "execution_count": 46,
   "metadata": {},
   "outputs": [
    {
     "data": {
      "text/plain": [
       "array([0.11111111, 0.16666667, 0.25      , 0.16666667, 0.09090909])"
      ]
     },
     "execution_count": 46,
     "metadata": {},
     "output_type": "execute_result"
    }
   ],
   "source": [
    "rfc = RandomForestClassifier(n_estimators=10000, max_depth=2, random_state=42)\n",
    "\n",
    "cross_val_score(rfc, X, y, cv=5)"
   ]
  },
  {
   "cell_type": "code",
   "execution_count": 47,
   "metadata": {},
   "outputs": [
    {
     "data": {
      "text/plain": [
       "array([0.16666667, 0.27777778, 0.0625    , 0.16666667, 0.18181818])"
      ]
     },
     "execution_count": 47,
     "metadata": {},
     "output_type": "execute_result"
    }
   ],
   "source": [
    "lr = LogisticRegression(penalty='l2', solver='lbfgs')\n",
    "\n",
    "cross_val_score(lr, X, y, cv=5)"
   ]
  },
  {
   "cell_type": "code",
   "execution_count": 48,
   "metadata": {},
   "outputs": [
    {
     "data": {
      "text/plain": [
       "array([0.16666667, 0.11111111, 0.1875    , 0.16666667, 0.18181818])"
      ]
     },
     "execution_count": 48,
     "metadata": {},
     "output_type": "execute_result"
    }
   ],
   "source": [
    "lr = LogisticRegression(penalty='l1', solver='liblinear')\n",
    "\n",
    "cross_val_score(lr, X, y, cv=5)"
   ]
  },
  {
   "cell_type": "markdown",
   "metadata": {},
   "source": [
    "Based on these models, I am going to conclude that authorship is not predictable based on the latent semantic analysis techniques. But is anything else?\n",
    "\n",
    "# Predicting Category (Majory, Dissent, Concurring)"
   ]
  },
  {
   "cell_type": "code",
   "execution_count": 58,
   "metadata": {},
   "outputs": [
    {
     "data": {
      "text/plain": [
       "array([0.46666667, 0.53333333, 0.46666667, 0.53333333, 0.4       ])"
      ]
     },
     "execution_count": 58,
     "metadata": {},
     "output_type": "execute_result"
    }
   ],
   "source": [
    "df_train_lsa['category'] = df_train['category']\n",
    "df_train_lsa['year_filed'] = df_train['year_filed']\n",
    "#Remove second dissenting and dissenting distinciton\n",
    "df_train_lsa = df_train_lsa.replace(to_replace='second_dissenting', value='dissenting')\n",
    "\n",
    "# Predicting category\n",
    "X = df_train_lsa.drop(columns=['category', 'year_filed', 'author_name'])\n",
    "y = df_train_lsa['category']\n",
    "\n",
    "gbc = GradientBoostingClassifier(n_estimators=1000, max_depth=5, learning_rate=0.1, random_state=42)\n",
    "cross_val_score(gbc, X, y, cv=5)"
   ]
  },
  {
   "cell_type": "code",
   "execution_count": 59,
   "metadata": {},
   "outputs": [
    {
     "data": {
      "text/plain": [
       "array([0.33333333, 0.4       , 0.4       , 0.4       , 0.53333333])"
      ]
     },
     "execution_count": 59,
     "metadata": {},
     "output_type": "execute_result"
    }
   ],
   "source": [
    "gbc = GradientBoostingClassifier(n_estimators=1000, max_depth=2, learning_rate=0.1, random_state=42)\n",
    "\n",
    "cross_val_score(gbc, X, y, cv=5)"
   ]
  },
  {
   "cell_type": "code",
   "execution_count": 60,
   "metadata": {},
   "outputs": [
    {
     "data": {
      "text/plain": [
       "array([0.33333333, 0.53333333, 0.6       , 0.6       , 0.4       ])"
      ]
     },
     "execution_count": 60,
     "metadata": {},
     "output_type": "execute_result"
    }
   ],
   "source": [
    "rfc = RandomForestClassifier(n_estimators=1000, max_depth=5, random_state=42)\n",
    "\n",
    "cross_val_score(rfc, X, y, cv=5)"
   ]
  },
  {
   "cell_type": "code",
   "execution_count": 61,
   "metadata": {},
   "outputs": [
    {
     "data": {
      "text/plain": [
       "array([0.4       , 0.53333333, 0.46666667, 0.46666667, 0.53333333])"
      ]
     },
     "execution_count": 61,
     "metadata": {},
     "output_type": "execute_result"
    }
   ],
   "source": [
    "rfc = RandomForestClassifier(n_estimators=10000, max_depth=2, random_state=42)\n",
    "\n",
    "cross_val_score(rfc, X, y, cv=5)"
   ]
  },
  {
   "cell_type": "code",
   "execution_count": 62,
   "metadata": {},
   "outputs": [
    {
     "data": {
      "text/plain": [
       "array([0.53333333, 0.46666667, 0.6       , 0.6       , 0.46666667])"
      ]
     },
     "execution_count": 62,
     "metadata": {},
     "output_type": "execute_result"
    }
   ],
   "source": [
    "lr = LogisticRegression(penalty='l2', solver='lbfgs')\n",
    "\n",
    "cross_val_score(lr, X, y, cv=5)"
   ]
  },
  {
   "cell_type": "code",
   "execution_count": 63,
   "metadata": {},
   "outputs": [
    {
     "data": {
      "text/plain": [
       "array([0.46666667, 0.46666667, 0.53333333, 0.53333333, 0.53333333])"
      ]
     },
     "execution_count": 63,
     "metadata": {},
     "output_type": "execute_result"
    }
   ],
   "source": [
    "lr = LogisticRegression(penalty='l1', solver='liblinear')\n",
    "\n",
    "cross_val_score(lr, X, y, cv=5)"
   ]
  },
  {
   "cell_type": "markdown",
   "metadata": {},
   "source": [
    "# Predicting Year Opinion was Filed"
   ]
  },
  {
   "cell_type": "code",
   "execution_count": 64,
   "metadata": {},
   "outputs": [
    {
     "data": {
      "text/plain": [
       "array([0.05555556, 0.        , 0.        , 0.        , 0.        ])"
      ]
     },
     "execution_count": 64,
     "metadata": {},
     "output_type": "execute_result"
    }
   ],
   "source": [
    "X = df_train_lsa.drop(columns=['category', 'year_filed', 'author_name'])\n",
    "y = df_train_lsa['year_filed']\n",
    "\n",
    "gbc = GradientBoostingClassifier(n_estimators=1000, max_depth=5, learning_rate=0.1, random_state=42)\n",
    "cross_val_score(gbc, X, y, cv=5)"
   ]
  },
  {
   "cell_type": "code",
   "execution_count": 65,
   "metadata": {},
   "outputs": [
    {
     "data": {
      "text/plain": [
       "array([0.05555556, 0.        , 0.        , 0.        , 0.        ])"
      ]
     },
     "execution_count": 65,
     "metadata": {},
     "output_type": "execute_result"
    }
   ],
   "source": [
    "gbc = GradientBoostingClassifier(n_estimators=1000, max_depth=2, learning_rate=0.1, random_state=42)\n",
    "\n",
    "cross_val_score(gbc, X, y, cv=5)"
   ]
  },
  {
   "cell_type": "code",
   "execution_count": 66,
   "metadata": {},
   "outputs": [
    {
     "data": {
      "text/plain": [
       "array([0.05555556, 0.08333333, 0.1       , 0.25      , 1.        ])"
      ]
     },
     "execution_count": 66,
     "metadata": {},
     "output_type": "execute_result"
    }
   ],
   "source": [
    "rfc = RandomForestClassifier(n_estimators=1000, max_depth=5, random_state=42)\n",
    "\n",
    "cross_val_score(rfc, X, y, cv=5)"
   ]
  },
  {
   "cell_type": "code",
   "execution_count": 67,
   "metadata": {},
   "outputs": [
    {
     "data": {
      "text/plain": [
       "array([0.02777778, 0.04166667, 0.1       , 0.        , 1.        ])"
      ]
     },
     "execution_count": 67,
     "metadata": {},
     "output_type": "execute_result"
    }
   ],
   "source": [
    "rfc = RandomForestClassifier(n_estimators=10000, max_depth=2, random_state=42)\n",
    "\n",
    "cross_val_score(rfc, X, y, cv=5)"
   ]
  },
  {
   "cell_type": "code",
   "execution_count": 68,
   "metadata": {},
   "outputs": [
    {
     "data": {
      "text/plain": [
       "array([0.02777778, 0.04166667, 0.1       , 0.25      , 1.        ])"
      ]
     },
     "execution_count": 68,
     "metadata": {},
     "output_type": "execute_result"
    }
   ],
   "source": [
    "lr = LogisticRegression(penalty='l2', solver='lbfgs')\n",
    "\n",
    "cross_val_score(lr, X, y, cv=5)"
   ]
  },
  {
   "cell_type": "code",
   "execution_count": 69,
   "metadata": {},
   "outputs": [
    {
     "data": {
      "text/plain": [
       "array([0.02777778, 0.04166667, 0.1       , 0.25      , 0.        ])"
      ]
     },
     "execution_count": 69,
     "metadata": {},
     "output_type": "execute_result"
    }
   ],
   "source": [
    "lr = LogisticRegression(penalty='l1', solver='liblinear')\n",
    "\n",
    "cross_val_score(lr, X, y, cv=5)"
   ]
  },
  {
   "cell_type": "markdown",
   "metadata": {},
   "source": [
    "# Conclusions\n",
    "\n",
    "Based on all of the modeling I've done, I conclude that authorship is not predictable using either clustering or traditional supervised learning models on the subset of the opinions I was able to use. None of the clustering methods created clusters that successfully identified authors in any sensical way. The supervised models all performed poorly. \n",
    "\n",
    "While these were not successful, I attempted to instead model the year filed and category of opinion. I had some comparative success in modeling the category, which shows there is some lexical difference in an opinion if it is a majority opinion, a concurring opinion, or if it is a dissenting opinion. \n",
    "\n",
    "If I had more computing resources, I would like to perform this research on all of the opinions. Would more successful modeling occur if I had the computing power to include all 8000+ opinions in my models? This is something that I would like to attempt in the future."
   ]
  }
 ],
 "metadata": {
  "kernelspec": {
   "display_name": "Python 3",
   "language": "python",
   "name": "python3"
  },
  "language_info": {
   "codemirror_mode": {
    "name": "ipython",
    "version": 3
   },
   "file_extension": ".py",
   "mimetype": "text/x-python",
   "name": "python",
   "nbconvert_exporter": "python",
   "pygments_lexer": "ipython3",
   "version": "3.7.3"
  }
 },
 "nbformat": 4,
 "nbformat_minor": 2
}
